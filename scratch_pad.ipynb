{
 "cells": [
  {
   "cell_type": "code",
   "execution_count": 1,
   "id": "89946ffc-21d1-4056-9f45-a41289f45f0c",
   "metadata": {},
   "outputs": [],
   "source": [
    "# Sets the working director to be the src\n",
    "import os\n",
    "import sys\n",
    "\n",
    "dir_path = os.path.realpath(\"./src\")\n",
    "sys.path.append(dir_path)"
   ]
  },
  {
   "cell_type": "code",
   "execution_count": 6,
   "id": "b7cbce09-05d2-4089-b6cd-9a5b12ceb492",
   "metadata": {},
   "outputs": [],
   "source": [
    "# Firebase Utilities\n",
    "import os\n",
    "\n",
    "from lazarus_implementation_tools.file_system.utils import in_working\n",
    "\n",
    "# Download all of the files and folders from the Firebase Directory to the DOWNLOAD_FOLDER\n",
    "# results = download()\n",
    "# for result in results:\n",
    "#     print(f\"Downloading {result[0]} to {result[1]}\")\n",
    "\n",
    "\n",
    "# If upload's second param is left off it will try to place in the same relative path\n",
    "# results = upload(in_working(\"empty.txt\"))\n",
    "# print(f\"Uploading {results[0]} to {results[1]}\")\n",
    "\n",
    "# results = upload(in_working(\"sub_dir/empty.txt\"))\n",
    "# print(f\"Uploading {results[0]} to {results[1]}\")\n",
    "\n",
    "# Upload a whole folder and all subfolders\n",
    "# results = upload(in_working(), recursive=True)\n",
    "# for result in results:\n",
    "#     print(f\"Uploading {result[0]} to {result[1]}\")\n",
    "\n",
    "# Copy a file in firebase from one location to another\n",
    "# results = copy(FIREBASE_PERSONAL_ROOT_FOLDER, os.path.join(FIREBASE_PERSONAL_ROOT_FOLDER, \"bak/\"))\n",
    "# for result in results:\n",
    "#     print(f\"Copying {result[0]} to {result[1]}\")\n",
    "\n",
    "# Delete an item in firebase\n",
    "# results = delete(os.path.join(FIREBASE_PERSONAL_ROOT_FOLDER, \"sub_dir/sub_sub_dir\"))\n",
    "# for result in results:\n",
    "#     print(f\"Deleting {result}\")\n",
    "\n",
    "# Upload a file and then get its URL\n",
    "# results = upload(in_working(local_file))\n",
    "# print(f\"Uploading {results[0]} to {results[1]}\")\n",
    "# url = get_url(local_file)\n",
    "# print(f\"Link: {local_file} - {url}\\n\")"
   ]
  },
  {
   "cell_type": "code",
   "execution_count": 7,
   "id": "4f2d4539-4fd3-4314-b8b9-ee3a4a7aa763",
   "metadata": {},
   "outputs": [],
   "source": [
    "# PDF Conversion Utilities\n",
    "from lazarus_implementation_tools.file_system.utils import in_working\n",
    "# from lazarus_implementation_tools.transformations.pdf.utils import convert_to_pdf\n",
    "\n",
    "\n",
    "# Code to convert a folder to pdfs for all extensions that we support\n",
    "# folder = in_working('pdf_conversions')\n",
    "# results = convert_to_pdf(folder, recursive=True)\n",
    "# for result in results:\n",
    "#     print(f\"Converted file: {result}\")"
   ]
  },
  {
   "cell_type": "code",
   "execution_count": 8,
   "id": "e7b110fc-44f5-49ba-9091-00e5e830591c",
   "metadata": {},
   "outputs": [],
   "source": [
    "from lazarus_implementation_tools.file_system.utils import in_working\n",
    "# from lazarus_implementation_tools.transformations.pdf.utils import trim_pdf\n",
    "\n",
    "# Trim a PDF (aka slice it by pages)\n",
    "file = in_working(\"lazarus/employee_handbook.pdf\")\n",
    "\n",
    "# Output is optional. If left off it leaves it in the same folder and appends a _{start}-{end} to the file name.\n",
    "# result = trim_pdf(file, 3, 4)\n",
    "# print(f\"Trimmed: {result}\")"
   ]
  },
  {
   "cell_type": "code",
   "execution_count": 9,
   "id": "5f41efa9-7ef8-4d88-a5c7-7cc51a419c3b",
   "metadata": {},
   "outputs": [],
   "source": [
    "from lazarus_implementation_tools.file_system.utils import in_working\n",
    "# from lazarus_implementation_tools.transformations.pdf.utils import get_number_of_pages, merge_pdfs, trim_pdf\n",
    "\n",
    "# Merge a PDF\n",
    "file = in_working(\"lazarus/employee_handbook.pdf\")\n",
    "\n",
    "# We're going to make a new PDF of the first and last page\n",
    "# page_count = get_number_of_pages(file)\n",
    "\n",
    "# alpha = trim_pdf(file, 1, 1)\n",
    "# omega = trim_pdf(file, page_count, page_count)\n",
    "# result = merge_pdfs([alpha, omega])\n",
    "# print(f\"Merged pdf: {result}\")"
   ]
  },
  {
   "cell_type": "code",
   "execution_count": 10,
   "id": "f921fe6f-aa29-46c0-ad28-ee04fde6606a",
   "metadata": {},
   "outputs": [],
   "source": [
    "from lazarus_implementation_tools.file_system.utils import in_working # , append_to_filename\n",
    "# from lazarus_implementation_tools.transformations.pdf.utils import tidy_pdf\n",
    "\n",
    "file = in_working(\"lazarus/employee_handbook.pdf\")\n",
    "# result = tidy_pdf(file, append_to_filename(file, \"_deskewed_and_cropped\"))\n",
    "# print(f\"{file} tidied to: {result}\")"
   ]
  },
  {
   "cell_type": "code",
   "execution_count": 7,
   "id": "eda569d2-91b0-4497-b759-b1b4cd4fc3f7",
   "metadata": {},
   "outputs": [
    {
     "name": "stdout",
     "output_type": "stream",
     "text": [
      "/Users/cbettis/git/lazarus/impl_utils/working/lazarus/employee_handbook.pdf\n"
     ]
    },
    {
     "ename": "AttributeError",
     "evalue": "'Rikai2' object has no attribute 'return_file_path'",
     "output_type": "error",
     "traceback": [
      "\u001b[31m---------------------------------------------------------------------------\u001b[39m",
      "\u001b[31mAttributeError\u001b[39m                            Traceback (most recent call last)",
      "\u001b[36mCell\u001b[39m\u001b[36m \u001b[39m\u001b[32mIn[7]\u001b[39m\u001b[32m, line 19\u001b[39m\n\u001b[32m     17\u001b[39m \u001b[38;5;28;01mfor\u001b[39;00m result \u001b[38;5;129;01min\u001b[39;00m results:\n\u001b[32m     18\u001b[39m     \u001b[38;5;28mprint\u001b[39m(result.file)\n\u001b[32m---> \u001b[39m\u001b[32m19\u001b[39m     \u001b[38;5;28mprint\u001b[39m(\u001b[43mresult\u001b[49m\u001b[43m.\u001b[49m\u001b[43mreturn_file_path\u001b[49m)\n\u001b[32m     20\u001b[39m     \u001b[38;5;28mprint\u001b[39m(result.response.json())\n",
      "\u001b[31mAttributeError\u001b[39m: 'Rikai2' object has no attribute 'return_file_path'"
     ]
    }
   ],
   "source": [
    "# Rikai2 Utils\n",
    "\n",
    "from lazarus_implementation_tools.file_system.utils import in_working\n",
    "from lazarus_implementation_tools.models.utils import query_rikai2\n",
    "\n",
    "files = [\n",
    "    in_working(\"lazarus/employee_handbook.pdf\")\n",
    "]\n",
    "\n",
    "prompt = \"\"\"Extract the following information from the document. Return your answers as a json using the specified keys.\n",
    "\n",
    "1. What is the policy for time off? Use the key 'time_off'\n",
    "2. Is there a stipend for home offices? Use the key 'home_office_stipend'\n",
    "\"\"\"\n",
    "\n",
    "results = query_rikai2(files, prompt)\n",
    "for result in results:\n",
    "    print(result.file)\n",
    "    print(result.return_file_path)\n",
    "    print(result.response.json())"
   ]
  },
  {
   "cell_type": "code",
   "execution_count": null,
   "id": "0ac31b2d-b05e-4faa-8ea9-46fa73ea5eaf",
   "metadata": {},
   "outputs": [],
   "source": [
    "from lazarus_implementation_tools.file_system.utils import in_working\n",
    "from lazarus_implementation_tools.general.pydantic_models import BoundingBox\n",
    "# from lazarus_implementation_tools.transformations.pdf.utils import draw_bounding_boxes\n",
    "\n",
    "file = in_working(\"lazarus/employee_handbook.pdf\")\n",
    "\n",
    "new_box = BoundingBox(\n",
    "    page_number=1,\n",
    "    box={\n",
    "   \"top_left_x\": 10,\n",
    "   \"top_left_y\": 10,\n",
    "   \"bottom_right_x\": 210,\n",
    "   \"bottom_right_y\": 110,\n",
    "})\n",
    "\n",
    "\n",
    "# pdf_with_box_path = draw_bounding_boxes(file, bounding_boxes=[new_box])\n",
    "# print(pdf_with_box_path)"
   ]
  },
  {
   "cell_type": "code",
   "execution_count": null,
   "id": "ba3bdcb1-acd9-4730-8945-f873976fdc22",
   "metadata": {},
   "outputs": [],
   "source": [
    "# from pprint import pprint\n",
    "\n",
    "from lazarus_implementation_tools.file_system.utils import in_working\n",
    "# from lazarus_implementation_tools.transformations.ocr.utils import ocr_pdf\n",
    "\n",
    "file = in_working(\"lazarus/employee_handbook.pdf\")\n",
    "\n",
    "# OCR Runs a small local LLM as such it takes a bit of time to produce results.\n",
    "# Picking which pages to analyse can also be helpful for optmizing performance.\n",
    "# results = ocr_pdf(file, start_page=4, end_page=4)\n",
    "# pprint(results)"
   ]
  },
  {
   "cell_type": "code",
   "execution_count": null,
   "id": "fd457a77-9a61-4b7f-a2b3-bb1cb176b4c0",
   "metadata": {},
   "outputs": [],
   "source": [
    "from lazarus_implementation_tools.file_system.utils import in_working\n",
    "# from lazarus_implementation_tools.grading.utils import apply_annotations_to_pdf\n",
    "\n",
    "folder = in_working('lazarus')\n",
    "\n",
    "# After running \n",
    "# apply_annotations_to_pdf(folder)"
   ]
  },
  {
   "cell_type": "code",
   "execution_count": 8,
   "id": "17b0ec9a-2194-4c5f-b3c7-3d903c5eddf9",
   "metadata": {},
   "outputs": [
    {
     "ename": "FileNotFoundError",
     "evalue": "[Errno 2] No such file or directory: '/Users/cbettis/git/lazarus/impl_utils/src/working/emails/EXT America Fujikura - 1 April 2025.msg'",
     "output_type": "error",
     "traceback": [
      "\u001b[31m---------------------------------------------------------------------------\u001b[39m",
      "\u001b[31mFileNotFoundError\u001b[39m                         Traceback (most recent call last)",
      "\u001b[36mCell\u001b[39m\u001b[36m \u001b[39m\u001b[32mIn[8]\u001b[39m\u001b[32m, line 6\u001b[39m\n\u001b[32m      3\u001b[39m \u001b[38;5;28;01mfrom\u001b[39;00m\u001b[38;5;250m \u001b[39m\u001b[34;01mlazarus_implementation_tools\u001b[39;00m\u001b[34;01m.\u001b[39;00m\u001b[34;01mtransformations\u001b[39;00m\u001b[34;01m.\u001b[39;00m\u001b[34;01mpdf\u001b[39;00m\u001b[34;01m.\u001b[39;00m\u001b[34;01mcore\u001b[39;00m\u001b[38;5;250m \u001b[39m\u001b[38;5;28;01mimport\u001b[39;00m convert_msg_to_pdf\n\u001b[32m      5\u001b[39m file = in_working(\u001b[33m'\u001b[39m\u001b[33memails/EXT America Fujikura - 1 April 2025.msg\u001b[39m\u001b[33m'\u001b[39m)\n\u001b[32m----> \u001b[39m\u001b[32m6\u001b[39m \u001b[38;5;28mprint\u001b[39m(\u001b[43mconvert_msg_to_pdf\u001b[49m\u001b[43m(\u001b[49m\u001b[43mfile\u001b[49m\u001b[43m)\u001b[49m)\n\u001b[32m      8\u001b[39m file = in_working(\u001b[33m'\u001b[39m\u001b[33memails/test_case.msg\u001b[39m\u001b[33m'\u001b[39m)\n\u001b[32m      9\u001b[39m \u001b[38;5;28mprint\u001b[39m(convert_msg_to_pdf(file))\n",
      "\u001b[36mFile \u001b[39m\u001b[32m~/git/lazarus/impl_utils/src/lazarus_implementation_tools/transformations/pdf/core.py:133\u001b[39m, in \u001b[36mconvert_msg_to_pdf\u001b[39m\u001b[34m(file_path, destination_path)\u001b[39m\n\u001b[32m    130\u001b[39m     destination_path = \u001b[33mf\u001b[39m\u001b[33m\"\u001b[39m\u001b[38;5;132;01m{\u001b[39;00mget_folder(file_path)\u001b[38;5;132;01m}\u001b[39;00m\u001b[33m/\u001b[39m\u001b[38;5;132;01m{\u001b[39;00mget_filename(file_path)\u001b[38;5;132;01m}\u001b[39;00m\u001b[33m.pdf\u001b[39m\u001b[33m\"\u001b[39m\n\u001b[32m    132\u001b[39m \u001b[38;5;66;03m# Extract message parts\u001b[39;00m\n\u001b[32m--> \u001b[39m\u001b[32m133\u001b[39m msg = \u001b[43mextract_msg\u001b[49m\u001b[43m.\u001b[49m\u001b[43mMessage\u001b[49m\u001b[43m(\u001b[49m\u001b[43mfile_path\u001b[49m\u001b[43m)\u001b[49m\n\u001b[32m    134\u001b[39m msg_body = msg.body \u001b[38;5;129;01mor\u001b[39;00m \u001b[33m\"\u001b[39m\u001b[33m\"\u001b[39m\n\u001b[32m    135\u001b[39m msg_html_body = msg.htmlBody \u001b[38;5;129;01mor\u001b[39;00m \u001b[33m\"\u001b[39m\u001b[33m\"\u001b[39m\n",
      "\u001b[36mFile \u001b[39m\u001b[32m~/git/lazarus/impl_utils/.venv/lib/python3.13/site-packages/extract_msg/msg_classes/message_base.py:84\u001b[39m, in \u001b[36mMessageBase.__init__\u001b[39m\u001b[34m(self, path, **kwargs)\u001b[39m\n\u001b[32m     65\u001b[39m \u001b[38;5;28;01mdef\u001b[39;00m\u001b[38;5;250m \u001b[39m\u001b[34m__init__\u001b[39m(\u001b[38;5;28mself\u001b[39m, path, **kwargs):\n\u001b[32m     66\u001b[39m \u001b[38;5;250m    \u001b[39m\u001b[33;03m\"\"\"\u001b[39;00m\n\u001b[32m     67\u001b[39m \u001b[33;03m    Supports all of the options from :meth:`MSGFile.__init__` with some\u001b[39;00m\n\u001b[32m     68\u001b[39m \u001b[33;03m    additional ones.\u001b[39;00m\n\u001b[32m   (...)\u001b[39m\u001b[32m     82\u001b[39m \u001b[33;03m        deencapsulation method will not run if this is set.\u001b[39;00m\n\u001b[32m     83\u001b[39m \u001b[33;03m    \"\"\"\u001b[39;00m\n\u001b[32m---> \u001b[39m\u001b[32m84\u001b[39m     \u001b[38;5;28;43msuper\u001b[39;49m\u001b[43m(\u001b[49m\u001b[43m)\u001b[49m\u001b[43m.\u001b[49m\u001b[34;43m__init__\u001b[39;49m\u001b[43m(\u001b[49m\u001b[43mpath\u001b[49m\u001b[43m,\u001b[49m\u001b[43m \u001b[49m\u001b[43m*\u001b[49m\u001b[43m*\u001b[49m\u001b[43mkwargs\u001b[49m\u001b[43m)\u001b[49m\n\u001b[32m     85\u001b[39m     \u001b[38;5;66;03m# The rest needs to be in a try-except block to ensure the file closes\u001b[39;00m\n\u001b[32m     86\u001b[39m     \u001b[38;5;66;03m# if an error occurs.\u001b[39;00m\n\u001b[32m     87\u001b[39m     \u001b[38;5;28;01mtry\u001b[39;00m:\n",
      "\u001b[36mFile \u001b[39m\u001b[32m~/git/lazarus/impl_utils/.venv/lib/python3.13/site-packages/extract_msg/msg_classes/msg.py:155\u001b[39m, in \u001b[36mMSGFile.__init__\u001b[39m\u001b[34m(self, path, **kwargs)\u001b[39m\n\u001b[32m    153\u001b[39m     \u001b[38;5;28;01melse\u001b[39;00m:\n\u001b[32m    154\u001b[39m         defect = olefile.DEFECT_INCORRECT\n\u001b[32m--> \u001b[39m\u001b[32m155\u001b[39m     \u001b[38;5;28mself\u001b[39m.__ole = \u001b[43molefile\u001b[49m\u001b[43m.\u001b[49m\u001b[43mOleFileIO\u001b[49m\u001b[43m(\u001b[49m\u001b[43mpath\u001b[49m\u001b[43m,\u001b[49m\u001b[43m \u001b[49m\u001b[43mraise_defects\u001b[49m\u001b[43m \u001b[49m\u001b[43m=\u001b[49m\u001b[43m \u001b[49m\u001b[43mdefect\u001b[49m\u001b[43m)\u001b[49m\n\u001b[32m    156\u001b[39m \u001b[38;5;28;01mexcept\u001b[39;00m \u001b[38;5;167;01mOSError\u001b[39;00m \u001b[38;5;28;01mas\u001b[39;00m e:\n\u001b[32m    157\u001b[39m     logger.error(e)\n",
      "\u001b[36mFile \u001b[39m\u001b[32m~/git/lazarus/impl_utils/.venv/lib/python3.13/site-packages/olefile/olefile.py:1127\u001b[39m, in \u001b[36mOleFileIO.__init__\u001b[39m\u001b[34m(self, filename, raise_defects, write_mode, debug, path_encoding)\u001b[39m\n\u001b[32m   1124\u001b[39m \u001b[38;5;28;01mif\u001b[39;00m filename:\n\u001b[32m   1125\u001b[39m     \u001b[38;5;66;03m# try opening, ensure fp is closed if that fails\u001b[39;00m\n\u001b[32m   1126\u001b[39m     \u001b[38;5;28;01mtry\u001b[39;00m:\n\u001b[32m-> \u001b[39m\u001b[32m1127\u001b[39m         \u001b[38;5;28;43mself\u001b[39;49m\u001b[43m.\u001b[49m\u001b[43mopen\u001b[49m\u001b[43m(\u001b[49m\u001b[43mfilename\u001b[49m\u001b[43m,\u001b[49m\u001b[43m \u001b[49m\u001b[43mwrite_mode\u001b[49m\u001b[43m=\u001b[49m\u001b[43mwrite_mode\u001b[49m\u001b[43m)\u001b[49m\n\u001b[32m   1128\u001b[39m     \u001b[38;5;28;01mexcept\u001b[39;00m \u001b[38;5;167;01mException\u001b[39;00m:\n\u001b[32m   1129\u001b[39m         \u001b[38;5;66;03m# caller has no chance of calling close() now\u001b[39;00m\n\u001b[32m   1130\u001b[39m         \u001b[38;5;28mself\u001b[39m._close(warn=\u001b[38;5;28;01mFalse\u001b[39;00m)\n",
      "\u001b[36mFile \u001b[39m\u001b[32m~/git/lazarus/impl_utils/.venv/lib/python3.13/site-packages/olefile/olefile.py:1231\u001b[39m, in \u001b[36mOleFileIO.open\u001b[39m\u001b[34m(self, filename, write_mode)\u001b[39m\n\u001b[32m   1228\u001b[39m \u001b[38;5;28;01melse\u001b[39;00m:\n\u001b[32m   1229\u001b[39m     \u001b[38;5;66;03m# read-only mode by default\u001b[39;00m\n\u001b[32m   1230\u001b[39m     mode = \u001b[33m'\u001b[39m\u001b[33mrb\u001b[39m\u001b[33m'\u001b[39m\n\u001b[32m-> \u001b[39m\u001b[32m1231\u001b[39m \u001b[38;5;28mself\u001b[39m.fp = \u001b[38;5;28;43mopen\u001b[39;49m\u001b[43m(\u001b[49m\u001b[43mfilename\u001b[49m\u001b[43m,\u001b[49m\u001b[43m \u001b[49m\u001b[43mmode\u001b[49m\u001b[43m)\u001b[49m\n\u001b[32m   1232\u001b[39m \u001b[38;5;28mself\u001b[39m._we_opened_fp = \u001b[38;5;28;01mTrue\u001b[39;00m\n\u001b[32m   1233\u001b[39m \u001b[38;5;28mself\u001b[39m._open_stack = traceback.extract_stack()   \u001b[38;5;66;03m# remember for warning\u001b[39;00m\n",
      "\u001b[31mFileNotFoundError\u001b[39m: [Errno 2] No such file or directory: '/Users/cbettis/git/lazarus/impl_utils/src/working/emails/EXT America Fujikura - 1 April 2025.msg'"
     ]
    }
   ],
   "source": [
    "from lazarus_implementation_tools.file_system.utils import in_working\n",
    "\n",
    "from lazarus_implementation_tools.transformations.pdf.core import convert_msg_to_pdf\n",
    "\n",
    "file = in_working('emails/EXT America Fujikura - 1 April 2025.msg')\n",
    "print(convert_msg_to_pdf(file))\n",
    "\n",
    "file = in_working('emails/test_case.msg')\n",
    "print(convert_msg_to_pdf(file))\n",
    "\n",
    "file = in_working('emails/this_is_a_sample_email.msg')\n",
    "print(convert_msg_to_pdf(file))"
   ]
  },
  {
   "cell_type": "code",
   "execution_count": null,
   "id": "5ed74a52-8b28-4761-af09-a18540776cb2",
   "metadata": {},
   "outputs": [],
   "source": []
  }
 ],
 "metadata": {
  "kernelspec": {
   "display_name": "Implementation Utilities",
   "language": "python",
   "name": "impl_utils"
  },
  "language_info": {
   "codemirror_mode": {
    "name": "ipython",
    "version": 3
   },
   "file_extension": ".py",
   "mimetype": "text/x-python",
   "name": "python",
   "nbconvert_exporter": "python",
   "pygments_lexer": "ipython3",
   "version": "3.13.3"
  }
 },
 "nbformat": 4,
 "nbformat_minor": 5
}
