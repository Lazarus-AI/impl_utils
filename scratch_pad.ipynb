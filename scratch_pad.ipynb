{
  "cells": [
    {
     "name": "stdout",
     "output_type": "stream",
     "text": [
      "/Users/cbettis/git/lazarus/impl_utils/src\n"
     ]
    }
   ],
   "source": [
    "# Sets the working director to be the src\n",
    "import os\n",
    "import sys\n",
    "\n",
    "dir_path = os.path.realpath('./src')\n",
    "os.chdir(dir_path)\n",
    "print(dir_path)"
   ]
  },
  {
   "cell_type": "code",
   "execution_count": 6,
   "id": "b7cbce09-05d2-4089-b6cd-9a5b12ceb492",
   "metadata": {},
   "outputs": [],
   "source": [
    "# Firebase Utilities\n",
    "import os\n",
    "\n",
    "from config import WORKING_FOLDER\n",
    "from file_system.utils import in_working\n",
    "from sync.firebase.utils import copy, delete, download, get_url, upload\n",
    "\n",
    "# Download all of the files and folders from the Firebase Directory to the DOWNLOAD_FOLDER\n",
    "# results = download()\n",
    "# for result in results:\n",
    "#     print(f\"Downloading {result[0]} to {result[1]}\")\n",
    "\n",
    "\n",
    "# If upload's second param is left off it will try to place in the same relative path\n",
    "# results = upload(in_working(\"empty.txt\"))\n",
    "# print(f\"Uploading {results[0]} to {results[1]}\")\n",
    "\n",
    "# results = upload(in_working(\"sub_dir/empty.txt\"))\n",
    "# print(f\"Uploading {results[0]} to {results[1]}\")\n",
    "\n",
    "# Upload a whole folder and all subfolders\n",
    "# results = upload(in_working(), recursive=True)\n",
    "# for result in results:\n",
    "#     print(f\"Uploading {result[0]} to {result[1]}\")\n",
    "\n",
    "# Copy a file in firebase from one location to another\n",
    "# results = copy(FIREBASE_PERSONAL_ROOT_FOLDER, os.path.join(FIREBASE_PERSONAL_ROOT_FOLDER, \"bak/\"))\n",
    "# for result in results:\n",
    "#     print(f\"Copying {result[0]} to {result[1]}\")\n",
    "\n",
    "# Delete an item in firebase\n",
    "# results = delete(os.path.join(FIREBASE_PERSONAL_ROOT_FOLDER, \"sub_dir/sub_sub_dir\"))\n",
    "# for result in results:\n",
    "#     print(f\"Deleting {result}\")\n",
    "\n",
    "# Upload a file and then get its URL\n",
    "# results = upload(in_working(local_file))\n",
    "# print(f\"Uploading {results[0]} to {results[1]}\")\n",
    "# url = get_url(local_file)\n",
    "# print(f\"Link: {local_file} - {url}\\n\")"
   ]
  },
  {
   "cell_type": "code",
   "execution_count": 3,
   "id": "4f2d4539-4fd3-4314-b8b9-ee3a4a7aa763",
   "metadata": {},
   "outputs": [],
   "source": [
    "# PDF Conversion Utilities\n",
    "from file_system.utils import in_working\n",
    "from transformations.pdf.utils import convert_to_pdf\n",
    "\n",
    "\n",
    "# Code to convert a folder to pdfs for all extensions that we support\n",
    "folder = in_working()\n",
    "# results = convert_to_pdf(folder, recursive=True)\n",
    "# for result in results:\n",
    "#     print(f\"Converted: {result[0]} to {result[1]}\")"
   ]
  },
  {
   "cell_type": "code",
   "execution_count": 4,
   "id": "e7b110fc-44f5-49ba-9091-00e5e830591c",
   "metadata": {},
   "outputs": [],
   "source": [
    "from file_system.utils import in_working\n",
    "from transformations.pdf.utils import trim_pdf\n",
    "\n",
    "# Trim a PDF (aka slice it by pages)\n",
    "file = in_working('lazarus/employee_handbook.pdf')\n",
    "\n",
    "# Output is optional. If left off it leaves it in the same folder and appends a _{start}-{end} to the file name.\n",
    "# result = trim_pdf(file, 3, 4)\n",
    "# print(f\"Trimmed: {result[0]} to {result[1]}\")"
   ]
  },
  {
   "cell_type": "code",
   "execution_count": 5,
   "id": "5f41efa9-7ef8-4d88-a5c7-7cc51a419c3b",
   "metadata": {},
   "outputs": [],
   "source": [
    "from file_system.utils import in_working\n",
    "from transformations.pdf.utils import trim_pdf, merge_pdfs, get_number_of_pages\n",
    "\n",
    "# Merge a PDF\n",
    "file = in_working('lazarus/employee_handbook.pdf')\n",
    "\n",
    "# We're going to make a new PDF of the first and last page\n",
    "page_count = get_number_of_pages(file)\n",
    "\n",
    "# _, alpha = trim_pdf(file, 1, 1)\n",
    "# _, omega = trim_pdf(file, page_count, page_count)\n",
    "# result = merge_pdfs([alpha, omega])\n",
    "# print(f\"Merged pdf: {result}\")"
   ]
  },
  {
   "cell_type": "code",
   "execution_count": 7,
   "id": "f921fe6f-aa29-46c0-ad28-ee04fde6606a",
   "metadata": {},
   "outputs": [
    {
      "cell_type": "code",
      "execution_count": 2,
      "id": "b7cbce09-05d2-4089-b6cd-9a5b12ceb492",
      "metadata": {},
      "outputs": [],
      "source": [
        "# Firebase Utilities\n",
        "import os\n",
        "\n",
        "from file_system.utils import in_working\n",
        "\n",
        "# Download all of the files and folders from the Firebase Directory to the DOWNLOAD_FOLDER\n",
        "# results = download()\n",
        "# for result in results:\n",
        "#     print(f\"Downloading {result[0]} to {result[1]}\")\n",
        "\n",
        "\n",
        "# If upload's second param is left off it will try to place in the same relative path\n",
        "# results = upload(in_working(\"empty.txt\"))\n",
        "# print(f\"Uploading {results[0]} to {results[1]}\")\n",
        "\n",
        "# results = upload(in_working(\"sub_dir/empty.txt\"))\n",
        "# print(f\"Uploading {results[0]} to {results[1]}\")\n",
        "\n",
        "# Upload a whole folder and all subfolders\n",
        "# results = upload(in_working(), recursive=True)\n",
        "# for result in results:\n",
        "#     print(f\"Uploading {result[0]} to {result[1]}\")\n",
        "\n",
        "# Copy a file in firebase from one location to another\n",
        "# results = copy(FIREBASE_PERSONAL_ROOT_FOLDER, os.path.join(FIREBASE_PERSONAL_ROOT_FOLDER, \"bak/\"))\n",
        "# for result in results:\n",
        "#     print(f\"Copying {result[0]} to {result[1]}\")\n",
        "\n",
        "# Delete an item in firebase\n",
        "# results = delete(os.path.join(FIREBASE_PERSONAL_ROOT_FOLDER, \"sub_dir/sub_sub_dir\"))\n",
        "# for result in results:\n",
        "#     print(f\"Deleting {result}\")\n",
        "\n",
        "# Upload a file and then get its URL\n",
        "# results = upload(in_working(local_file))\n",
        "# print(f\"Uploading {results[0]} to {results[1]}\")\n",
        "# url = get_url(local_file)\n",
        "# print(f\"Link: {local_file} - {url}\\n\")"
      ]
    },
    {
      "cell_type": "code",
      "execution_count": 3,
      "id": "4f2d4539-4fd3-4314-b8b9-ee3a4a7aa763",
      "metadata": {},
      "outputs": [],
      "source": [
        "# PDF Conversion Utilities\n",
        "from file_system.utils import in_working\n",
        "\n",
        "\n",
        "# Code to convert a folder to pdfs for all extensions that we support\n",
        "folder = in_working()\n",
        "# results = convert_to_pdf(folder, recursive=True)\n",
        "# for result in results:\n",
        "#     print(f\"Converted: {result[0]} to {result[1]}\")"
      ]
    },
    {
      "cell_type": "code",
      "execution_count": 4,
      "id": "e7b110fc-44f5-49ba-9091-00e5e830591c",
      "metadata": {},
      "outputs": [],
      "source": [
        "from file_system.utils import in_working\n",
        "\n",
        "# Trim a PDF (aka slice it by pages)\n",
        "file = in_working(\"lazarus/employee_handbook.pdf\")\n",
        "\n",
        "# Output is optional. If left off it leaves it in the same folder and appends a _{start}-{end} to the file name.\n",
        "# result = trim_pdf(file, 3, 4)\n",
        "# print(f\"Trimmed: {result[0]} to {result[1]}\")"
      ]
    },
    {
      "cell_type": "code",
      "execution_count": 5,
      "id": "5f41efa9-7ef8-4d88-a5c7-7cc51a419c3b",
      "metadata": {},
      "outputs": [],
      "source": [
        "from file_system.utils import in_working\n",
        "from transformations.pdf.utils import get_number_of_pages\n",
        "\n",
        "# Merge a PDF\n",
        "file = in_working(\"lazarus/employee_handbook.pdf\")\n",
        "\n",
        "# We're going to make a new PDF of the first and last page\n",
        "page_count = get_number_of_pages(file)\n",
        "\n",
        "# _, alpha = trim_pdf(file, 1, 1)\n",
        "# _, omega = trim_pdf(file, page_count, page_count)\n",
        "# result = merge_pdfs([alpha, omega])\n",
        "# print(f\"Merged pdf: {result}\")"
      ]
    },
    {
      "cell_type": "code",
      "execution_count": 7,
      "id": "f921fe6f-aa29-46c0-ad28-ee04fde6606a",
      "metadata": {},
      "outputs": [
        {
          "name": "stdout",
          "output_type": "stream",
          "text": [
            "/Users/cbettis/git/lazarus/impl_utils/working/lazarus/employee_handbook.pdf tidied to: /Users/cbettis/git/lazarus/impl_utils/working/lazarus/employee_handbook_deskewed_and_cropped.pdf\n"
          ]
        }
      ],
      "source": [
        "from file_system.utils import in_working, append_to_filename\n",
        "from transformations.pdf.utils import tidy_pdf\n",
        "\n",
        "file = in_working(\"lazarus/employee_handbook.pdf\")\n",
        "result = tidy_pdf(file, append_to_filename(file, \"_deskewed_and_cropped\"))\n",
        "print(f\"{file} tidied to: {result}\")"
      ]
    },
    {
      "cell_type": "code",
      "execution_count": null,
      "id": "eda569d2-91b0-4497-b759-b1b4cd4fc3f7",
      "metadata": {},
      "outputs": [],
      "source": []
    },
    {
      "cell_type": "code",
      "execution_count": null,
      "id": "0ac31b2d-b05e-4faa-8ea9-46fa73ea5eaf",
      "metadata": {},
      "outputs": [],
      "source": []
    }
  ],
  "metadata": {
    "kernelspec": {
      "display_name": "Implementation Utilities",
      "language": "python",
      "name": "impl_utils"
    },
    "language_info": {
      "codemirror_mode": {
        "name": "ipython",
        "version": 3
      },
      "file_extension": ".py",
      "mimetype": "text/x-python",
      "name": "python",
      "nbconvert_exporter": "python",
      "pygments_lexer": "ipython3",
      "version": "3.13.1"
    }
  },
  {
   "cell_type": "code",
   "execution_count": null,
   "id": "0ac31b2d-b05e-4faa-8ea9-46fa73ea5eaf",
   "metadata": {},
   "outputs": [],
   "source": []
  },
  {
   "cell_type": "code",
   "execution_count": 2,
   "id": "eda569d2-91b0-4497-b759-b1b4cd4fc3f7",
   "metadata": {},
   "outputs": [
    {
     "name": "stdout",
     "output_type": "stream",
     "text": [
      "Processing: /Users/cbettis/git/lazarus/impl_utils/working/lazarus/employee_handbook.pdf\n",
      "Looking for: imp-dev/cris/webhook/employee_handbook_Rikai2.json\n",
      "Waiting.......30s\n",
      "Saved file to: /Users/cbettis/git/lazarus/impl_utils/working/lazarus/employee_handbook_Rikai2.json\n"
     ]
    }
   ],
   "source": [
    "# Rikai2 Utils\n",
    "from file_system.utils import in_working\n",
    "from models.utils import query_rikai2\n",
    "\n",
    "file = in_working(\"lazarus/employee_handbook.pdf\")\n",
    "prompts = [\n",
    "    'What is the policy for time off?',\n",
    "    'Is there a stipend for home offices?'\n",
    "]\n",
    "\n",
    "query_rikai2(file, prompts)"
   ]
  },
  {
   "cell_type": "code",
   "execution_count": 5,
   "id": "3faf79d1-bcce-49f1-b745-059e5ad2dba1",
   "metadata": {},
   "outputs": [],
   "source": [
    "from file_system.utils import in_working, tidy_json_files\n",
    "\n",
    "tidy_json_files(in_working(\"lazarus/employee_handbook_Rikai2.json\"))"
   ]
  },
  {
   "cell_type": "code",
   "execution_count": null,
   "id": "f9a171e1-e02d-44e1-a374-736691dcbcf2",
   "metadata": {},
   "outputs": [],
   "source": []
  },
  {
   "cell_type": "code",
   "execution_count": null,
   "id": "f4ce128d-d84a-4f1a-8117-a7ffa822a787",
   "metadata": {},
   "outputs": [],
   "source": []
  }
 ],
 "metadata": {
  "kernelspec": {
   "display_name": "Implementation Utilities",
   "language": "python",
   "name": "impl_utils"
  },
  "language_info": {
   "codemirror_mode": {
    "name": "ipython",
    "version": 3
   },
   "file_extension": ".py",
   "mimetype": "text/x-python",
   "name": "python",
   "nbconvert_exporter": "python",
   "pygments_lexer": "ipython3",
   "version": "3.13.3"
  }
 },
 "nbformat": 4,
 "nbformat_minor": 5
}
