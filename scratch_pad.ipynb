{
<<<<<<< HEAD
 "cells": [
  {
   "cell_type": "code",
   "execution_count": 1,
   "id": "89946ffc-21d1-4056-9f45-a41289f45f0c",
   "metadata": {},
   "outputs": [],
   "source": [
    "# Sets the working director to be the src\n",
    "import os\n",
    "\n",
    "dir_path = os.path.realpath(\"./src\")\n",
    "os.chdir(dir_path)"
   ]
  },
  {
   "cell_type": "code",
   "execution_count": 2,
   "id": "b7cbce09-05d2-4089-b6cd-9a5b12ceb492",
   "metadata": {},
   "outputs": [],
   "source": [
    "# Firebase Utilities\n",
    "import os\n",
    "\n",
    "from file_system.utils import in_working\n",
    "\n",
    "# Download all of the files and folders from the Firebase Directory to the DOWNLOAD_FOLDER\n",
    "# results = download()\n",
    "# for result in results:\n",
    "#     print(f\"Downloading {result[0]} to {result[1]}\")\n",
    "\n",
    "\n",
    "# If upload's second param is left off it will try to place in the same relative path\n",
    "# results = upload(in_working(\"empty.txt\"))\n",
    "# print(f\"Uploading {results[0]} to {results[1]}\")\n",
    "\n",
    "# results = upload(in_working(\"sub_dir/empty.txt\"))\n",
    "# print(f\"Uploading {results[0]} to {results[1]}\")\n",
    "\n",
    "# Upload a whole folder and all subfolders\n",
    "# results = upload(in_working(), recursive=True)\n",
    "# for result in results:\n",
    "#     print(f\"Uploading {result[0]} to {result[1]}\")\n",
    "\n",
    "# Copy a file in firebase from one location to another\n",
    "# results = copy(FIREBASE_PERSONAL_ROOT_FOLDER, os.path.join(FIREBASE_PERSONAL_ROOT_FOLDER, \"bak/\"))\n",
    "# for result in results:\n",
    "#     print(f\"Copying {result[0]} to {result[1]}\")\n",
    "\n",
    "# Delete an item in firebase\n",
    "# results = delete(os.path.join(FIREBASE_PERSONAL_ROOT_FOLDER, \"sub_dir/sub_sub_dir\"))\n",
    "# for result in results:\n",
    "#     print(f\"Deleting {result}\")\n",
    "\n",
    "# Upload a file and then get its URL\n",
    "# results = upload(in_working(local_file))\n",
    "# print(f\"Uploading {results[0]} to {results[1]}\")\n",
    "# url = get_url(local_file)\n",
    "# print(f\"Link: {local_file} - {url}\\n\")"
   ]
  },
  {
   "cell_type": "code",
   "execution_count": 2,
   "id": "4f2d4539-4fd3-4314-b8b9-ee3a4a7aa763",
   "metadata": {},
   "outputs": [
=======
  "cells": [
    {
      "cell_type": "code",
      "execution_count": 1,
      "id": "89946ffc-21d1-4056-9f45-a41289f45f0c",
      "metadata": {},
      "outputs": [],
      "source": [
        "# Sets the working director to be the src\n",
        "import os\n",
        "\n",
        "dir_path = os.path.realpath(\"./src\")\n",
        "os.chdir(dir_path)"
      ]
    },
>>>>>>> 32be243 (IMP-927: WIP)
    {
      "cell_type": "code",
      "execution_count": 2,
      "id": "b7cbce09-05d2-4089-b6cd-9a5b12ceb492",
      "metadata": {},
      "outputs": [],
      "source": [
        "# Firebase Utilities\n",
        "import os\n",
        "\n",
        "from file_system.utils import in_working\n",
        "\n",
        "# Download all of the files and folders from the Firebase Directory to the DOWNLOAD_FOLDER\n",
        "# results = download()\n",
        "# for result in results:\n",
        "#     print(f\"Downloading {result[0]} to {result[1]}\")\n",
        "\n",
        "\n",
        "# If upload's second param is left off it will try to place in the same relative path\n",
        "# results = upload(in_working(\"empty.txt\"))\n",
        "# print(f\"Uploading {results[0]} to {results[1]}\")\n",
        "\n",
        "# results = upload(in_working(\"sub_dir/empty.txt\"))\n",
        "# print(f\"Uploading {results[0]} to {results[1]}\")\n",
        "\n",
        "# Upload a whole folder and all subfolders\n",
        "# results = upload(in_working(), recursive=True)\n",
        "# for result in results:\n",
        "#     print(f\"Uploading {result[0]} to {result[1]}\")\n",
        "\n",
        "# Copy a file in firebase from one location to another\n",
        "# results = copy(FIREBASE_PERSONAL_ROOT_FOLDER, os.path.join(FIREBASE_PERSONAL_ROOT_FOLDER, \"bak/\"))\n",
        "# for result in results:\n",
        "#     print(f\"Copying {result[0]} to {result[1]}\")\n",
        "\n",
        "# Delete an item in firebase\n",
        "# results = delete(os.path.join(FIREBASE_PERSONAL_ROOT_FOLDER, \"sub_dir/sub_sub_dir\"))\n",
        "# for result in results:\n",
        "#     print(f\"Deleting {result}\")\n",
        "\n",
        "# Upload a file and then get its URL\n",
        "# results = upload(in_working(local_file))\n",
        "# print(f\"Uploading {results[0]} to {results[1]}\")\n",
        "# url = get_url(local_file)\n",
        "# print(f\"Link: {local_file} - {url}\\n\")"
      ]
    },
    {
      "cell_type": "code",
      "execution_count": 2,
      "id": "4f2d4539-4fd3-4314-b8b9-ee3a4a7aa763",
      "metadata": {},
      "outputs": [
        {
          "name": "stdout",
          "output_type": "stream",
          "text": [
            "Converted file: /Users/cbettis/git/lazarus/impl_utils/working/pdf_conversions/open_office_doc.pdf\n",
            "Converted file: /Users/cbettis/git/lazarus/impl_utils/working/pdf_conversions/old_word_doc.pdf\n",
            "Converted file: /Users/cbettis/git/lazarus/impl_utils/working/pdf_conversions/old_excel.pdf\n",
            "Converted file: /Users/cbettis/git/lazarus/impl_utils/working/pdf_conversions/word_doc.pdf\n",
            "Converted file: /Users/cbettis/git/lazarus/impl_utils/working/pdf_conversions/excel.pdf\n"
          ]
        }
      ],
      "source": [
        "# PDF Conversion Utilities\n",
        "from file_system.utils import in_working\n",
        "# from transformations.pdf.utils import convert_to_pdf\n",
        "\n",
        "\n",
        "# Code to convert a folder to pdfs for all extensions that we support\n",
        "# folder = in_working('pdf_conversions')\n",
        "# results = convert_to_pdf(folder, recursive=True)\n",
        "# for result in results:\n",
        "#     print(f\"Converted file: {result}\")"
      ]
    },
    {
      "cell_type": "code",
      "execution_count": 4,
      "id": "e7b110fc-44f5-49ba-9091-00e5e830591c",
      "metadata": {},
      "outputs": [],
      "source": [
        "from file_system.utils import in_working\n",
        "# from transformations.pdf.utils import trim_pdf\n",
        "\n",
        "# Trim a PDF (aka slice it by pages)\n",
        "file = in_working(\"lazarus/employee_handbook.pdf\")\n",
        "\n",
        "# Output is optional. If left off it leaves it in the same folder and appends a _{start}-{end} to the file name.\n",
        "# result = trim_pdf(file, 3, 4)\n",
        "# print(f\"Trimmed: {result}\")"
      ]
    },
    {
      "cell_type": "code",
      "execution_count": 6,
      "id": "5f41efa9-7ef8-4d88-a5c7-7cc51a419c3b",
      "metadata": {},
      "outputs": [
        {
          "name": "stdout",
          "output_type": "stream",
          "text": [
            "Merged pdf: /Users/cbettis/git/lazarus/impl_utils/working/lazarus/employee_handbook_1-1_merged_file.pdf\n"
          ]
        }
      ],
      "source": [
        "from file_system.utils import in_working\n",
        "# from transformations.pdf.utils import get_number_of_pages, merge_pdfs, trim_pdf\n",
        "\n",
        "# Merge a PDF\n",
        "file = in_working(\"lazarus/employee_handbook.pdf\")\n",
        "\n",
        "# We're going to make a new PDF of the first and last page\n",
        "# page_count = get_number_of_pages(file)\n",
        "\n",
        "# alpha = trim_pdf(file, 1, 1)\n",
        "# omega = trim_pdf(file, page_count, page_count)\n",
        "# result = merge_pdfs([alpha, omega])\n",
        "# print(f\"Merged pdf: {result}\")"
      ]
    },
    {
      "cell_type": "code",
      "execution_count": 9,
      "id": "f921fe6f-aa29-46c0-ad28-ee04fde6606a",
      "metadata": {},
      "outputs": [],
      "source": [
        "from file_system.utils import in_working # , append_to_filename\n",
        "# from transformations.pdf.utils import tidy_pdf\n",
        "\n",
        "file = in_working(\"lazarus/employee_handbook.pdf\")\n",
        "# result = tidy_pdf(file, append_to_filename(file, \"_deskewed_and_cropped\"))\n",
        "# print(f\"{file} tidied to: {result}\")"
      ]
    },
    {
      "cell_type": "code",
      "execution_count": 4,
      "id": "eda569d2-91b0-4497-b759-b1b4cd4fc3f7",
      "metadata": {},
      "outputs": [
        {
          "name": "stdout",
          "output_type": "stream",
          "text": [
            "Processing: /Users/cbettis/git/lazarus/impl_utils/working/lazarus/employee_handbook.pdf\n",
            "Looking for: imp-dev/cris/webhook/employee_handbook_Rikai2.json\n",
            "Waiting0s\n",
            "Saved file to: /Users/cbettis/git/lazarus/impl_utils/working/lazarus/employee_handbook_Rikai2.json\n"
          ]
        }
      ],
      "source": [
        "# Rikai2 Utils\n",
        "\n",
        "from file_system.utils import in_working\n",
        "# from models.utils import query_rikai2\n",
        "\n",
        "# files = [\n",
        "#     in_working(\"lazarus/employee_handbook.pdf\")\n",
        "# ]\n",
        "\n",
        "# prompt = \"\"\"Extract the following information from the document. Return your answers as a json using the specified keys.\n",
        "#\n",
        "# 1. What is the policy for time off? Use the key 'time_off'\n",
        "# 2. Is there a stipend for home offices? Use the key 'home_office_stipend'\n",
        "# \"\"\"\n",
        "\n",
        "# query_rikai2(files, prompt)"
      ]
    },
    {
      "cell_type": "code",
      "execution_count": 18,
      "id": "0ac31b2d-b05e-4faa-8ea9-46fa73ea5eaf",
      "metadata": {},
      "outputs": [],
      "source": [
        "from file_system.utils import in_working\n",
        "from general.pydantic_models import BoundingBox\n",
        "# from transformations.pdf.utils import draw_bounding_boxes\n",
        "\n",
        "file = in_working(\"lazarus/employee_handbook.pdf\")\n",
        "\n",
        "new_box = BoundingBox(\n",
        "    page_number=1,\n",
        "    box={\n",
        "   \"top_left_x\": 10,\n",
        "   \"top_left_y\": 10,\n",
        "   \"bottom_right_x\": 210,\n",
        "   \"bottom_right_y\": 110,\n",
        "})\n",
        "\n",
        "\n",
        "# pdf_with_box_path = draw_bounding_boxes(file, bounding_boxes=[new_box])\n",
        "# print(pdf_with_box_path)"
      ]
    },
    {
      "cell_type": "code",
      "execution_count": 5,
      "id": "ba3bdcb1-acd9-4730-8945-f873976fdc22",
      "metadata": {},
      "outputs": [],
      "source": [
        "# from pprint import pprint\n",
        "\n",
        "from file_system.utils import in_working\n",
        "# from transformations.ocr.utils import ocr_pdf\n",
        "\n",
        "file = in_working(\"lazarus/employee_handbook.pdf\")\n",
        "\n",
        "# OCR Runs a small local LLM as such it takes a bit of time to produce results.\n",
        "# Picking which pages to analyse can also be helpful for optmizing performance.\n",
        "# results = ocr_pdf(file, start_page=4, end_page=4)\n",
        "# pprint(results)"
      ]
    },
    {
      "cell_type": "code",
      "execution_count": 4,
      "id": "fd457a77-9a61-4b7f-a2b3-bb1cb176b4c0",
      "metadata": {},
      "outputs": [
        {
          "name": "stderr",
          "output_type": "stream",
          "text": [
            "File not found: /Users/cbettis/git/lazarus/impl_utils/working/lazarus/employee_handbook_bounding_boxes.pdf\n"
          ]
        }
      ],
      "source": [
        "from file_system.utils import in_working\n",
        "# from grading.utils import apply_annotations_to_pdf\n",
        "\n",
        "folder = in_working('lazarus')\n",
        "\n",
        "# After running \n",
        "# apply_annotations_to_pdf(folder)"
      ]
    },
    {
      "cell_type": "code",
      "execution_count": 3,
      "id": "17b0ec9a-2194-4c5f-b3c7-3d903c5eddf9",
      "metadata": {},
      "outputs": [
        {
          "name": "stderr",
          "output_type": "stream",
          "text": [
            "/Users/cbettis/git/lazarus/impl_utils/.venv/lib/python3.13/site-packages/google/auth/_default.py:76: UserWarning: Your application has authenticated using end user credentials from Google Cloud SDK without a quota project. You might receive a \"quota exceeded\" or \"API not enabled\" error. See the following page for troubleshooting: https://cloud.google.com/docs/authentication/adc-troubleshooting/user-creds. \n",
            "  warnings.warn(_CLOUD_SDK_CREDENTIALS_WARNING)\n",
            "An error occurred: <HttpError 403 when requesting https://www.googleapis.com/drive/v3/files/1xzoodutneh-fkg1vn4u43kjdppxslyg_a7tdtmzmpgm?alt=media returned \"Request had insufficient authentication scopes.\". Details: \"[{'message': 'Insufficient Permission', 'domain': 'global', 'reason': 'insufficientPermissions'}]\">\n"
          ]
        },
        {
          "data": {
            "text/plain": [
              "False"
            ]
          },
          "execution_count": 3,
          "metadata": {},
          "output_type": "execute_result"
        }
      ],
      "source": [
        "from file_system.utils import in_working\n",
        "from sync.gdrive.utils import download\n",
        "\n",
        "consensus_deployment_ppt = 'https://docs.google.com/presentation/d/1XZoOduTNeh-FkG1vN4U43kjdPPXsLYG_A7tDtMzmPGM/edit?slide=id.g35fb13fc036_0_0#slide=id.g35fb13fc036_0_0'\n",
        "\n",
        "download(consensus_deployment_ppt, in_working())"
      ]
    },
    {
      "cell_type": "code",
      "execution_count": null,
      "id": "27fb0fd7-dfc6-4eb0-958d-2918e2569cd6",
      "metadata": {},
      "outputs": [],
      "source": []
    }
  ],
  "metadata": {
    "kernelspec": {
      "display_name": "Implementation Utilities",
      "language": "python",
      "name": "impl_utils"
    },
    "language_info": {
      "codemirror_mode": {
        "name": "ipython",
        "version": 3
      },
      "file_extension": ".py",
      "mimetype": "text/x-python",
      "name": "python",
      "nbconvert_exporter": "python",
      "pygments_lexer": "ipython3",
      "version": "3.13.3"
    }
  },
<<<<<<< HEAD
  {
   "cell_type": "code",
   "execution_count": 5,
   "id": "17b0ec9a-2194-4c5f-b3c7-3d903c5eddf9",
   "metadata": {},
   "outputs": [
    {
     "name": "stdout",
     "output_type": "stream",
     "text": [
      "['/var/folders/w5/gvv_8bl50rl6krf2hpc6k3g80000gn/T/tmplssdws62/message.pdf', '/var/folders/w5/gvv_8bl50rl6krf2hpc6k3g80000gn/T/tmplssdws62/image001.gif', '/var/folders/w5/gvv_8bl50rl6krf2hpc6k3g80000gn/T/tmplssdws62/America Fujikura - 2025 Broker Notes.docx', '/var/folders/w5/gvv_8bl50rl6krf2hpc6k3g80000gn/T/tmplssdws62/AFL - 4.1.25-26 GLOBAL INVENTORY VALUES.xlsx', '/var/folders/w5/gvv_8bl50rl6krf2hpc6k3g80000gn/T/tmplssdws62/11. Gallagher_Cargo_STP_Questionnaire_update.pdf', '/var/folders/w5/gvv_8bl50rl6krf2hpc6k3g80000gn/T/tmplssdws62/AMERICA FUJIKURA LTD - CNA Cargo Loss Runs 2014-2024.pdf', '/var/folders/w5/gvv_8bl50rl6krf2hpc6k3g80000gn/T/tmplssdws62/America Fujikura Ltd_Mitsui Property Loss Runs 2005-2025.xlsx']\n",
      "['/var/folders/w5/gvv_8bl50rl6krf2hpc6k3g80000gn/T/tmplssdws62/message.pdf', '/var/folders/w5/gvv_8bl50rl6krf2hpc6k3g80000gn/T/tmplssdws62/America Fujikura - 2025 Broker Notes.pdf', '/var/folders/w5/gvv_8bl50rl6krf2hpc6k3g80000gn/T/tmplssdws62/AFL - 4.1.25-26 GLOBAL INVENTORY VALUES.pdf', '/var/folders/w5/gvv_8bl50rl6krf2hpc6k3g80000gn/T/tmplssdws62/11. Gallagher_Cargo_STP_Questionnaire_update.pdf', '/var/folders/w5/gvv_8bl50rl6krf2hpc6k3g80000gn/T/tmplssdws62/AMERICA FUJIKURA LTD - CNA Cargo Loss Runs 2014-2024.pdf', '/var/folders/w5/gvv_8bl50rl6krf2hpc6k3g80000gn/T/tmplssdws62/America Fujikura Ltd_Mitsui Property Loss Runs 2005-2025.pdf']\n",
      "/Users/cbettis/git/lazarus/impl_utils/working/emails/EXT America Fujikura - 1 April 2025.pdf\n",
      "['/var/folders/w5/gvv_8bl50rl6krf2hpc6k3g80000gn/T/tmpi2wwy5jm/message.pdf', '/var/folders/w5/gvv_8bl50rl6krf2hpc6k3g80000gn/T/tmpi2wwy5jm/Oferta_Veolia_SCGT_CAR,OC,ALOP.docx', '/var/folders/w5/gvv_8bl50rl6krf2hpc6k3g80000gn/T/tmpi2wwy5jm/image001.png']\n",
      "['/var/folders/w5/gvv_8bl50rl6krf2hpc6k3g80000gn/T/tmpi2wwy5jm/message.pdf', '/var/folders/w5/gvv_8bl50rl6krf2hpc6k3g80000gn/T/tmpi2wwy5jm/Oferta_Veolia_SCGT_CAR,OC,ALOP.pdf']\n",
      "/Users/cbettis/git/lazarus/impl_utils/working/emails/test_case.pdf\n",
      "['/var/folders/w5/gvv_8bl50rl6krf2hpc6k3g80000gn/T/tmpdv4v74bq/message.pdf', '/var/folders/w5/gvv_8bl50rl6krf2hpc6k3g80000gn/T/tmpdv4v74bq/text.txt', '/var/folders/w5/gvv_8bl50rl6krf2hpc6k3g80000gn/T/tmpdv4v74bq/jpg_image.jpg', '/var/folders/w5/gvv_8bl50rl6krf2hpc6k3g80000gn/T/tmpdv4v74bq/csv.textClipping', '/var/folders/w5/gvv_8bl50rl6krf2hpc6k3g80000gn/T/tmpdv4v74bq/pdf.pdf', '/var/folders/w5/gvv_8bl50rl6krf2hpc6k3g80000gn/T/tmpdv4v74bq/png_image.png']\n",
      "['/var/folders/w5/gvv_8bl50rl6krf2hpc6k3g80000gn/T/tmpdv4v74bq/message.pdf', '/var/folders/w5/gvv_8bl50rl6krf2hpc6k3g80000gn/T/tmpdv4v74bq/text.pdf', '/var/folders/w5/gvv_8bl50rl6krf2hpc6k3g80000gn/T/tmpdv4v74bq/jpg_image.pdf', '/var/folders/w5/gvv_8bl50rl6krf2hpc6k3g80000gn/T/tmpdv4v74bq/pdf.pdf', '/var/folders/w5/gvv_8bl50rl6krf2hpc6k3g80000gn/T/tmpdv4v74bq/png_image.pdf']\n",
      "/Users/cbettis/git/lazarus/impl_utils/working/emails/this_is_a_sample_email.pdf\n"
     ]
    }
   ],
   "source": [
    "from file_system.utils import in_working\n",
    "\n",
    "from transformations.pdf.core import convert_msg_to_pdf\n",
    "\n",
    "file = in_working('emails/EXT America Fujikura - 1 April 2025.msg')\n",
    "print(convert_msg_to_pdf(file))\n",
    "\n",
    "file = in_working('emails/test_case.msg')\n",
    "print(convert_msg_to_pdf(file))\n",
    "\n",
    "file = in_working('emails/this_is_a_sample_email.msg')\n",
    "print(convert_msg_to_pdf(file))"
   ]
  },
  {
   "cell_type": "code",
   "execution_count": null,
   "id": "5ed74a52-8b28-4761-af09-a18540776cb2",
   "metadata": {},
   "outputs": [],
   "source": []
  }
 ],
 "metadata": {
  "kernelspec": {
   "display_name": "Implementation Utilities",
   "language": "python",
   "name": "impl_utils"
  },
  "language_info": {
   "codemirror_mode": {
    "name": "ipython",
    "version": 3
   },
   "file_extension": ".py",
   "mimetype": "text/x-python",
   "name": "python",
   "nbconvert_exporter": "python",
   "pygments_lexer": "ipython3",
   "version": "3.13.3"
  }
 },
 "nbformat": 4,
 "nbformat_minor": 5
=======
  "nbformat": 4,
  "nbformat_minor": 5
>>>>>>> 32be243 (IMP-927: WIP)
}
