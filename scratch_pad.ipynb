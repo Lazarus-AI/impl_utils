{
 "cells": [
  {
   "cell_type": "code",
   "execution_count": 7,
   "id": "89946ffc-21d1-4056-9f45-a41289f45f0c",
   "metadata": {},
   "outputs": [
    {
     "name": "stdout",
     "output_type": "stream",
     "text": [
      "/Users/cbettis/git/lazarus/impl_utils/src\n"
     ]
    }
   ],
   "source": [
    "# Sets the working director to be the src\n",
    "import os\n",
    "import sys\n",
    "\n",
    "dir_path = os.path.realpath('./src')\n",
    "os.chdir(dir_path)\n",
    "print(dir_path)"
   ]
  },
  {
   "cell_type": "code",
   "execution_count": 9,
   "id": "b7cbce09-05d2-4089-b6cd-9a5b12ceb492",
   "metadata": {},
   "outputs": [],
   "source": [
    "# Firebase Utilities\n",
    "import os\n",
    "\n",
    "from config import WORKING_FOLDER\n",
    "from sync.firebase.utils import copy, delete, download, get_url, upload\n",
    "\n",
    "# Download all of the files and folders from the Firebase Directory to the DOWNLOAD_FOLDER\n",
    "# results = download()\n",
    "# for result in results:\n",
    "#     print(f\"Downloading {result[0]} to {result[1]}\")\n",
    "\n",
    "\n",
    "# If upload's second param is left off it will try to place in the same relative path\n",
    "# results = upload(os.path.join(WORKING_FOLDER, \"empty.txt\"))\n",
    "# print(f\"Uploading {results[0]} to {results[1]}\")\n",
    "\n",
    "# results = upload(os.path.join(WORKING_FOLDER, \"sub_dir/empty.txt\"))\n",
    "# print(f\"Uploading {results[0]} to {results[1]}\")\n",
    "\n",
    "# Upload a whole folder and all subfolders\n",
    "# results = upload(WORKING_FOLDER, recursive=True)\n",
    "# for result in results:\n",
    "#     print(f\"Uploading {result[0]} to {result[1]}\")\n",
    "\n",
    "# Copy a file in firebase from one location to another\n",
    "# results = copy(FIREBASE_PERSONAL_ROOT_FOLDER, os.path.join(FIREBASE_PERSONAL_ROOT_FOLDER, \"bak/\"))\n",
    "# for result in results:\n",
    "#     print(f\"Copying {result[0]} to {result[1]}\")\n",
    "\n",
    "# Delete an item in firebase\n",
    "# results = delete(os.path.join(FIREBASE_PERSONAL_ROOT_FOLDER, \"sub_dir/sub_sub_dir\"))\n",
    "# for result in results:\n",
    "#     print(f\"Deleting {result}\")\n",
    "\n",
    "# Upload a file and then get its URL\n",
    "# results = upload(os.path.join(WORKING_FOLDER, local_file))\n",
    "# print(f\"Uploading {results[0]} to {results[1]}\")\n",
    "# url = get_url(local_file)\n",
    "# print(f\"Link: {local_file} - {url}\\n\")"
   ]
  },
  {
   "cell_type": "code",
   "execution_count": 10,
   "id": "4f2d4539-4fd3-4314-b8b9-ee3a4a7aa763",
   "metadata": {},
   "outputs": [],
   "source": [
    "# PDF Conversion Utilities\n",
    "from config import WORKING_FOLDER\n",
    "from transformations.pdf.utils import convert_to_pdf\n",
    "\n",
    "\n",
    "# Code to convert a folder to pdfs for all extensions that we support\n",
    "folder = WORKING_FOLDER\n",
    "# results = convert_to_pdf(folder, recursive=True)\n",
    "# for result in results:\n",
    "#     print(f\"Converted: {result[0]} to {result[1]}\")"
   ]
  },
  {
   "cell_type": "code",
   "execution_count": null,
   "id": "e7b110fc-44f5-49ba-9091-00e5e830591c",
   "metadata": {},
   "outputs": [],
   "source": []
  }
 ],
 "metadata": {
  "kernelspec": {
   "display_name": "Implementation Utilities",
   "language": "python",
   "name": "impl_utils"
  },
  "language_info": {
   "codemirror_mode": {
    "name": "ipython",
    "version": 3
   },
   "file_extension": ".py",
   "mimetype": "text/x-python",
   "name": "python",
   "nbconvert_exporter": "python",
   "pygments_lexer": "ipython3",
   "version": "3.13.1"
  }
 },
 "nbformat": 4,
 "nbformat_minor": 5
}
